{
 "cells": [
  {
   "cell_type": "markdown",
   "metadata": {},
   "source": [
    "# [IAPR 2019:][iapr2019] Lab 2 ‒  Object description\n",
    "\n",
    "**Author:** first name and last name  \n",
    "**Due date:** 19.04.2019\n",
    "\n",
    "[iapr2019]: https://github.com/LTS5/iapr-2019"
   ]
  },
  {
   "cell_type": "markdown",
   "metadata": {},
   "source": [
    "## Extract relevant data\n",
    "We first need to extract the `lab-02-data.tar.gz` archive.\n",
    "To this end, we use the [tarfile] module from the Python standard library.\n",
    "\n",
    "[tarfile]: https://docs.python.org/3.6/library/tarfile.html"
   ]
  },
  {
   "cell_type": "code",
   "execution_count": 1,
   "metadata": {},
   "outputs": [],
   "source": [
    "import tarfile\n",
    "import os\n",
    "import numpy as np\n",
    "\n",
    "import skimage.measure as measure\n",
    "import skimage.morphology as mp\n",
    "import cv2\n",
    "\n",
    "data_base_path = os.path.join(os.pardir, 'data')\n",
    "data_folder = 'lab-02-data'\n",
    "tar_path = os.path.join(data_base_path, data_folder + '.tar.gz')\n",
    "with tarfile.open(tar_path, mode='r:gz') as tar:\n",
    "    tar.extractall(path=data_base_path)"
   ]
  },
  {
   "cell_type": "markdown",
   "metadata": {},
   "source": [
    "## Description\n",
    "In the `lab-02-data/` folder, you will find 28x28 grey-scale pictures of handwritten \"0\" and \"1\".\n",
    "These digits have been extracted from MNIST dataset (http://yann.lecun.com/exdb/mnist/).\n",
    "\n",
    "Your goal is to extract, from each of those images, a 2-dimensional feature vector (i.e. 2 features) and to plot them all on a 2D graph.\n",
    "If you have chosen good features, the vectors of the \"0\"'s should nicely cluster in one part of the plane and those of the \"1\"'s in another.\n",
    "\n",
    "Please try first the Fourier Descriptors.\n",
    "You can make several attempts: e.g. with and without invariance to rotation, translation, scaling, etc.\n",
    "You can also for instance rotate the images and assess the invariance in rotation.\n",
    "\n",
    "**Note:** for the Fourier descriptors, the u_k signal has to be constructed by following the contour point after point.\n",
    "Some pre-processing (image binarization, possibly some Mathematical Morphology) might be useful.\n",
    "\n",
    "Then feel free to try other features, the more you try, the better it will be (for you)."
   ]
  },
  {
   "cell_type": "markdown",
   "metadata": {},
   "source": [
    "### 1.1 Data visualization"
   ]
  },
  {
   "cell_type": "code",
   "execution_count": 2,
   "metadata": {},
   "outputs": [
    {
     "data": {
      "image/png": "[encoded data removed]",
      "text/plain": [
       "<Figure size 864x216 with 20 Axes>"
      ]
     },
     "metadata": {},
     "output_type": "display_data"
    }
   ],
   "source": [
    "import skimage.io\n",
    "import matplotlib.pyplot as plt\n",
    "%matplotlib inline\n",
    "\n",
    "# Load images\n",
    "data_base_path = os.path.join(os.pardir, 'data')\n",
    "data_folder = 'lab-02-data'\n",
    "#  Load zeros\n",
    "zeros_path = os.path.join(data_base_path, data_folder, '0')\n",
    "zeros_names = [nm for nm in os.listdir(zeros_path) if '.png' in nm]  # make sure to only load .png\n",
    "zeros_names.sort()  # sort file names\n",
    "ic = skimage.io.imread_collection([os.path.join(zeros_path, nm) for nm in zeros_names])\n",
    "zeros_im = skimage.io.concatenate_images(ic)\n",
    "#  Load ones\n",
    "ones_path = os.path.join(data_base_path, data_folder, '1')\n",
    "ones_names = [nm for nm in os.listdir(ones_path) if '.png' in nm]  # make sure to only load .png\n",
    "ones_names.sort()  # sort file names\n",
    "ic = skimage.io.imread_collection(([os.path.join(ones_path, nm) for nm in ones_names]))\n",
    "ones_im = skimage.io.concatenate_images(ic)\n",
    "\n",
    "# Plot images\n",
    "fig, axes = plt.subplots(2, len(zeros_im), figsize=(12, 3))\n",
    "for ax, im, nm in zip(axes[0], zeros_im, zeros_names):\n",
    "    ax.imshow(im, cmap='gray')\n",
    "    ax.axis('off')\n",
    "    ax.set_title(nm)\n",
    "for ax, im, nm in zip(axes[1], ones_im, ones_names):\n",
    "    ax.imshow(im, cmap='gray')\n",
    "    ax.axis('off')\n",
    "    ax.set_title(nm)"
   ]
  },
  {
   "cell_type": "markdown",
   "metadata": {},
   "source": [
    "### 1.2 Fourier descriptors\n",
    "Add your implementation and discussion"
   ]
  },
  {
   "cell_type": "markdown",
   "metadata": {},
   "source": [
    "We preprocess our images to get better results. We threshold with one value and do a dilation after thresholding."
   ]
  },
  {
   "cell_type": "code",
   "execution_count": 23,
   "metadata": {},
   "outputs": [],
   "source": [
    "def preprocess(img, th):\n",
    "    ic = img.copy()\n",
    "    ic[ic > th] = 255\n",
    "    ic[ic < th] = 0\n",
    "    return mp.dilation(ic)"
   ]
  },
  {
   "cell_type": "markdown",
   "metadata": {},
   "source": [
    "We define a function to get the fourier descriptors. First, we find the contours of the image and create imaginary numbers from the contour points. The imaginary numbers are then used for the fourier transform."
   ]
  },
  {
   "cell_type": "code",
   "execution_count": 24,
   "metadata": {},
   "outputs": [],
   "source": [
    "def fourier_descriptor(img):\n",
    "    ic = img.copy()\n",
    "\n",
    "    # Find contours using opencv\n",
    "    _, contours, _ = cv2.findContours(ic, cv2.RETR_EXTERNAL, cv2.CHAIN_APPROX_NONE)\n",
    "        \n",
    "    # Reshape to easily get x and y\n",
    "    contours_np = contours[0][:, 0, :]\n",
    "    \n",
    "    # Create imag nums and descriptors\n",
    "    u_k = contours_np[:, 0] + 1j*contours_np[:, 1]\n",
    "    fr = np.fft.fft(u_k)\n",
    "    \n",
    "    # Only return the 2nd and 3rd\n",
    "    return [fr[1], fr[2]]"
   ]
  },
  {
   "cell_type": "markdown",
   "metadata": {},
   "source": [
    "We create a function to easily do our pipeline for a whole image stack."
   ]
  },
  {
   "cell_type": "code",
   "execution_count": 25,
   "metadata": {},
   "outputs": [],
   "source": [
    "def process_images(images, th):\n",
    "    points = []\n",
    "    \n",
    "    # Get descriptors for the preprocessed images\n",
    "    for im in images:\n",
    "        points.append(fourier_descriptor(preprocess(im, th)))\n",
    "\n",
    "    X = []\n",
    "    Y = []\n",
    "\n",
    "    # Calculate the magnitude for the descriptors and set as X and Y\n",
    "    for i in range(len(images)):\n",
    "        X.append(np.abs(points[i][0]))\n",
    "        Y.append(np.abs(points[i][1]))\n",
    "\n",
    "    return X, Y"
   ]
  },
  {
   "cell_type": "markdown",
   "metadata": {},
   "source": [
    "By testing, we decided that the best threshold was 200. We process both image stacks."
   ]
  },
  {
   "cell_type": "code",
   "execution_count": 26,
   "metadata": {},
   "outputs": [],
   "source": [
    "threshold = 200\n",
    "\n",
    "X_zeros, Y_zeros = process_images(zeros_im, threshold)\n",
    "X_ones, Y_ones = process_images(ones_im, threshold)"
   ]
  },
  {
   "cell_type": "markdown",
   "metadata": {},
   "source": [
    "This function is used to plot the descriptors."
   ]
  },
  {
   "cell_type": "code",
   "execution_count": 27,
   "metadata": {},
   "outputs": [],
   "source": [
    "def plot_descriptors(X_zeros, Y_zeros, X_ones, Y_ones):\n",
    "    fig, ax = plt.subplots(1, 1)\n",
    "    ax.scatter(X_zeros, Y_zeros, marker='o', color='red', label='Zeros')\n",
    "    ax.scatter(X_ones, Y_ones, marker='^', color='blue', label='Ones')\n",
    "    ax.set_xlabel('X')\n",
    "    ax.set_ylabel('Y')\n",
    "    ax.legend()\n",
    "    plt.show()"
   ]
  },
  {
   "cell_type": "code",
   "execution_count": 28,
   "metadata": {},
   "outputs": [
    {
     "data": {
      "image/png": "[encoded data removed]",
      "text/plain": [
       "<Figure size 432x288 with 1 Axes>"
      ]
     },
     "metadata": {},
     "output_type": "display_data"
    }
   ],
   "source": [
    "plot_descriptors(X_zeros, Y_zeros, X_ones, Y_ones)"
   ]
  },
  {
   "cell_type": "markdown",
   "metadata": {},
   "source": [
    "From the results we can see a clear dividing line between zeros and ones.\n",
    "\n",
    "Also, note that since we use the magnitude of the Fourier descriptor the method is rotation invariant."
   ]
  },
  {
   "cell_type": "markdown",
   "metadata": {},
   "source": [
    "### 1.3 Additional method(s)\n"
   ]
  },
  {
   "cell_type": "markdown",
   "metadata": {},
   "source": [
    "#### 1.3.1 Compacity\n",
    "First we set the features to the Area and the Perimeter. The Perimeter will be described as the length of the contour."
   ]
  },
  {
   "cell_type": "code",
   "execution_count": 31,
   "metadata": {},
   "outputs": [],
   "source": [
    "def create_features_A_P(images):\n",
    "    f1 = []\n",
    "    f2 = []\n",
    "    for im in images:\n",
    "        # Preporcessing\n",
    "        im = preprocess(im,200)\n",
    "        # Area\n",
    "        A = np.sum(im == 255) \n",
    "        \n",
    "        #Contours\n",
    "        # Find contours using opencv\n",
    "        _, contours, _ = cv2.findContours(im, cv2.RETR_EXTERNAL, cv2.CHAIN_APPROX_NONE)\n",
    "        # Reshape to easily get x and y\n",
    "        contours_np = contours[0][:, 0, :]\n",
    "\n",
    "        #perimeter\n",
    "        P =  len(contours_np)\n",
    "        \n",
    "        f1.append(A)\n",
    "        f2.append((P*P)/A)\n",
    "        \n",
    "    return f1,f2"
   ]
  },
  {
   "cell_type": "code",
   "execution_count": 32,
   "metadata": {},
   "outputs": [
    {
     "data": {
      "image/png": "[encoded data removed]",
      "text/plain": [
       "<Figure size 432x288 with 1 Axes>"
      ]
     },
     "metadata": {},
     "output_type": "display_data"
    }
   ],
   "source": [
    "X_ones, Y_ones = create_features_A_P(ones_im)\n",
    "X_zeros, Y_zeros = create_features_A_P(zeros_im)\n",
    "\n",
    "plot_descriptors(X_zeros, Y_zeros, X_ones, Y_ones)"
   ]
  },
  {
   "cell_type": "markdown",
   "metadata": {},
   "source": [
    "By the way we choose the Perimeter P this method is also invariant to translation and rotation and the result is also quite ok. The Area (x-axis) does most of the separation but the Compacity (y-axis) also contributes apart from one outlier in the zeros data."
   ]
  },
  {
   "cell_type": "markdown",
   "metadata": {},
   "source": [
    "#### 1.3.1 Rectangularity\n",
    "The second method we are going to try is Rectangualarity. We again set Area to be the first feature vector and the Rectangularity to the second one. "
   ]
  },
  {
   "cell_type": "code",
   "execution_count": 37,
   "metadata": {},
   "outputs": [],
   "source": [
    "def create_features_A_rec(images):\n",
    "    f1 = []\n",
    "    f2 = []\n",
    "    for im in images:\n",
    "        # Preporcessing\n",
    "        im = preprocess(im,200)\n",
    "        # Area\n",
    "        A = np.sum(im == 255) \n",
    "        \n",
    "        #Bounding box area\n",
    "        label_img = measure.label(im, connectivity=im.ndim)\n",
    "        props = measure.regionprops(label_img)\n",
    "        bbox = props[0].bbox\n",
    "        recArea = (bbox[3] - bbox[1]) * (bbox[2] - bbox[0])\n",
    "        \n",
    "        f1.append(A)\n",
    "        f2.append(A/recArea)\n",
    "        \n",
    "    return f1,f2"
   ]
  },
  {
   "cell_type": "code",
   "execution_count": 38,
   "metadata": {},
   "outputs": [
    {
     "data": {
      "image/png": "[encoded data removed]",
      "text/plain": [
       "<Figure size 432x288 with 1 Axes>"
      ]
     },
     "metadata": {},
     "output_type": "display_data"
    }
   ],
   "source": [
    "X_ones, Y_ones = create_features_A_rec(ones_im)\n",
    "X_zeros, Y_zeros = create_features_A_rec(zeros_im)\n",
    "\n",
    "plot_descriptors(X_zeros, Y_zeros, X_ones, Y_ones)"
   ]
  },
  {
   "cell_type": "markdown",
   "metadata": {},
   "source": [
    "From this plot we can see that rectangularity is a bad measurement to use in this case. It is only the area that separates the two classes."
   ]
  }
 ],
 "metadata": {
  "kernelspec": {
   "display_name": "Python 3",
   "language": "python",
   "name": "python3"
  },
  "language_info": {
   "codemirror_mode": {
    "name": "ipython",
    "version": 3
   },
   "file_extension": ".py",
   "mimetype": "text/x-python",
   "name": "python",
   "nbconvert_exporter": "python",
   "pygments_lexer": "ipython3",
   "version": "3.6.7"
  }
 },
 "nbformat": 4,
 "nbformat_minor": 2
}
